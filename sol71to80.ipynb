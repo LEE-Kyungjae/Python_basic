{
 "cells": [
  {
   "cell_type": "markdown",
   "id": "cb0ea744",
   "metadata": {},
   "source": [
    "2016년 11월 영화 예매 순위 기준 top3는 다음과 같다. 영화 제목을 movie_rank 이름의 튜플에 저장하라. (순위 정보는 저장하지 않는다.)\n",
    "\n",
    "순위\t영화\n",
    "1\t닥터 스트레인지\n",
    "2\t스플릿\n",
    "3\t럭키"
   ]
  },
  {
   "cell_type": "code",
   "execution_count": 45,
   "id": "e4df7124",
   "metadata": {},
   "outputs": [],
   "source": [
    "movie_rank = (\"닥터스트레인지\",\"스플릿\",\"럭키\")"
   ]
  },
  {
   "cell_type": "markdown",
   "id": "57eb3679",
   "metadata": {},
   "source": [
    "숫자 1 이 저장된 튜플을 생성하라.\n",
    "\n"
   ]
  },
  {
   "cell_type": "markdown",
   "id": "194c3189",
   "metadata": {},
   "source": [
    "num=(1,)\n",
    "type(num)"
   ]
  },
  {
   "cell_type": "markdown",
   "id": "ab2ff07e",
   "metadata": {},
   "source": [
    "다음 코드를 실행해보고 오류가 발생하는 원인을 설명하라.\n",
    ">> t = (1, 2, 3)\n",
    ">> t[0] = 'a'\n",
    "Traceback (most recent call last):\n",
    "  File \"<pyshell#46>\", line 1, in <module>\n",
    "    t[0] = 'a'\n",
    "TypeError: 'tuple' object does not support item assignment"
   ]
  },
  {
   "cell_type": "code",
   "execution_count": 46,
   "id": "7f70efcd",
   "metadata": {},
   "outputs": [
    {
     "ename": "TypeError",
     "evalue": "'tuple' object does not support item assignment",
     "output_type": "error",
     "traceback": [
      "\u001b[1;31m---------------------------------------------------------------------------\u001b[0m",
      "\u001b[1;31mTypeError\u001b[0m                                 Traceback (most recent call last)",
      "\u001b[1;32m<ipython-input-46-fc60f4a55dd4>\u001b[0m in \u001b[0;36m<module>\u001b[1;34m\u001b[0m\n\u001b[0;32m      1\u001b[0m \u001b[0mt\u001b[0m \u001b[1;33m=\u001b[0m \u001b[1;33m(\u001b[0m\u001b[1;36m1\u001b[0m\u001b[1;33m,\u001b[0m \u001b[1;36m2\u001b[0m\u001b[1;33m,\u001b[0m \u001b[1;36m3\u001b[0m\u001b[1;33m)\u001b[0m\u001b[1;33m\u001b[0m\u001b[1;33m\u001b[0m\u001b[0m\n\u001b[1;32m----> 2\u001b[1;33m \u001b[0mt\u001b[0m\u001b[1;33m[\u001b[0m\u001b[1;36m0\u001b[0m\u001b[1;33m]\u001b[0m \u001b[1;33m=\u001b[0m \u001b[1;34m'a'\u001b[0m\u001b[1;33m\u001b[0m\u001b[1;33m\u001b[0m\u001b[0m\n\u001b[0m\u001b[0;32m      3\u001b[0m \u001b[1;31m#tuple은 원소(element)의 값을 변경할 수 없습니다.\u001b[0m\u001b[1;33m\u001b[0m\u001b[1;33m\u001b[0m\u001b[1;33m\u001b[0m\u001b[0m\n",
      "\u001b[1;31mTypeError\u001b[0m: 'tuple' object does not support item assignment"
     ]
    }
   ],
   "source": [
    "t = (1, 2, 3)\n",
    "t[0] = 'a'\n",
    "#tuple은 원소(element)의 값을 변경할 수 없습니다."
   ]
  },
  {
   "cell_type": "markdown",
   "id": "0addfd0e",
   "metadata": {},
   "source": [
    "아래와 같이 t에는 1, 2, 3, 4 데이터가 바인딩되어 있다. t가 바인딩하는 데이터 타입은 무엇인가?\n",
    "t = 1, 2, 3, 4"
   ]
  },
  {
   "cell_type": "code",
   "execution_count": 47,
   "id": "f6b8bdf7",
   "metadata": {},
   "outputs": [],
   "source": [
    "#편의상 괄호뺴도됨"
   ]
  },
  {
   "cell_type": "markdown",
   "id": "fa4d3661",
   "metadata": {},
   "source": [
    "변수 t에는 아래와 같은 값이 저장되어 있다. 변수 t가 ('A', 'b', 'c') 튜플을 가리키도록 수정 하라."
   ]
  },
  {
   "cell_type": "code",
   "execution_count": 48,
   "id": "d9a1d2d5",
   "metadata": {},
   "outputs": [
    {
     "name": "stdout",
     "output_type": "stream",
     "text": [
      "('A', 'b', 'c')\n"
     ]
    }
   ],
   "source": [
    "t = ('a', 'b', 'c')\n",
    "t = ('A', 'b', 'c')\n",
    "print(t)\n",
    "#튜플은 수정이 불가능하므로 새로정의를 해야한다."
   ]
  },
  {
   "cell_type": "markdown",
   "id": "8c397594",
   "metadata": {},
   "source": [
    "다음 튜플을 리스트로 변환하라.\n",
    "interest = ('삼성전자', 'LG전자', 'SK Hynix')\n"
   ]
  },
  {
   "cell_type": "code",
   "execution_count": 49,
   "id": "b41e2f4a",
   "metadata": {},
   "outputs": [
    {
     "name": "stdout",
     "output_type": "stream",
     "text": [
      "['삼성전자', 'LG전자', 'SK Hynix']\n"
     ]
    }
   ],
   "source": [
    "interest = ('삼성전자', 'LG전자', 'SK Hynix')\n",
    "interest = ['삼성전자','LG전자','SK Hynix']\n",
    "print(interest)"
   ]
  },
  {
   "cell_type": "code",
   "execution_count": 50,
   "id": "01f3d8ff",
   "metadata": {},
   "outputs": [
    {
     "name": "stdout",
     "output_type": "stream",
     "text": [
      "['삼성전자', 'LG전자', 'SK Hynix']\n"
     ]
    }
   ],
   "source": [
    "interest = ('삼성전자', 'LG전자', 'SK Hynix')\n",
    "data = list(interest)\n",
    "print(data)"
   ]
  },
  {
   "cell_type": "code",
   "execution_count": 51,
   "id": "781ddb6c",
   "metadata": {},
   "outputs": [
    {
     "name": "stdout",
     "output_type": "stream",
     "text": [
      "('삼성전자', 'LG전자', 'SK Hynix')\n"
     ]
    }
   ],
   "source": [
    "print(interest)"
   ]
  },
  {
   "cell_type": "code",
   "execution_count": 52,
   "id": "59d15202",
   "metadata": {},
   "outputs": [
    {
     "ename": "SyntaxError",
     "evalue": "invalid syntax (<ipython-input-52-4c0f745a93bd>, line 1)",
     "output_type": "error",
     "traceback": [
      "\u001b[1;36m  File \u001b[1;32m\"<ipython-input-52-4c0f745a93bd>\"\u001b[1;36m, line \u001b[1;32m1\u001b[0m\n\u001b[1;33m    다음 리스트를 튜플로 변경하라.\u001b[0m\n\u001b[1;37m       ^\u001b[0m\n\u001b[1;31mSyntaxError\u001b[0m\u001b[1;31m:\u001b[0m invalid syntax\n"
     ]
    }
   ],
   "source": [
    "다음 리스트를 튜플로 변경하라.\n",
    "interest = ['삼성전자', 'LG전자', 'SK Hynix']\n"
   ]
  },
  {
   "cell_type": "code",
   "execution_count": 53,
   "id": "2c6396db",
   "metadata": {},
   "outputs": [
    {
     "name": "stdout",
     "output_type": "stream",
     "text": [
      "('삼성전자', 'LG전자', 'SK Hynix')\n"
     ]
    }
   ],
   "source": [
    "interest = ['삼성전자', 'LG전자', 'SK Hynix']\n",
    "interest = tuple(interest)\n",
    "print(interest)"
   ]
  },
  {
   "cell_type": "markdown",
   "id": "e6070583",
   "metadata": {},
   "source": [
    "다음 코드의 실행 결과를 예상하라.\n",
    "temp = ('apple', 'banana', 'cake')\n",
    "a, b, c = temp\n",
    "print(a, b, c)\n",
    "\n"
   ]
  },
  {
   "cell_type": "code",
   "execution_count": 54,
   "id": "c59169b9",
   "metadata": {},
   "outputs": [
    {
     "name": "stdout",
     "output_type": "stream",
     "text": [
      "apple banana cake\n"
     ]
    }
   ],
   "source": [
    "temp = ('apple', 'banana', 'cake')\n",
    "a, b, c = temp\n",
    "print(a, b, c)\n"
   ]
  },
  {
   "cell_type": "markdown",
   "id": "7246c243",
   "metadata": {},
   "source": [
    "1 부터 99까지의 정수 중 짝수만 저장된 튜플을 생성하라.\n",
    "(2, 4, 6, 8 ... 98)"
   ]
  },
  {
   "cell_type": "code",
   "execution_count": 55,
   "id": "d0240a79",
   "metadata": {
    "scrolled": true
   },
   "outputs": [
    {
     "name": "stdout",
     "output_type": "stream",
     "text": [
      "(2, 4, 6, 8, 10, 12, 14, 16, 18, 20, 22, 24, 26, 28, 30, 32, 34, 36, 38, 40, 42, 44, 46, 48, 50, 52, 54, 56, 58, 60, 62, 64, 66, 68, 70, 72, 74, 76, 78, 80, 82, 84, 86, 88, 90, 92, 94, 96, 98)\n"
     ]
    }
   ],
   "source": [
    "data = tuple(range(2,100,2))\n",
    "print(data)"
   ]
  },
  {
   "cell_type": "code",
   "execution_count": 56,
   "id": "fec5478e",
   "metadata": {},
   "outputs": [
    {
     "name": "stdout",
     "output_type": "stream",
     "text": [
      "(1, 3, 5, 7, 9, 11, 13, 15, 17, 19, 21, 23, 25, 27, 29, 31, 33, 35, 37, 39, 41, 43, 45, 47, 49, 51, 53, 55, 57, 59, 61, 63, 65, 67, 69, 71, 73, 75, 77, 79, 81, 83, 85, 87, 89, 91, 93, 95, 97, 99)\n"
     ]
    }
   ],
   "source": [
    "data = tuple(range(1,100,2))\n",
    "print(data)"
   ]
  },
  {
   "cell_type": "code",
   "execution_count": null,
   "id": "ca68f209",
   "metadata": {},
   "outputs": [],
   "source": []
  }
 ],
 "metadata": {
  "kernelspec": {
   "display_name": "Python 3",
   "language": "python",
   "name": "python3"
  },
  "language_info": {
   "codemirror_mode": {
    "name": "ipython",
    "version": 3
   },
   "file_extension": ".py",
   "mimetype": "text/x-python",
   "name": "python",
   "nbconvert_exporter": "python",
   "pygments_lexer": "ipython3",
   "version": "3.8.8"
  }
 },
 "nbformat": 4,
 "nbformat_minor": 5
}
